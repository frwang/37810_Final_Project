{
 "cells": [
  {
   "cell_type": "markdown",
   "metadata": {},
   "source": [
    "<center>\n",
    "# Final Project Part 2\n",
    "# Feng Wang\n",
    "# Gibbs Sampling "
   ]
  },
  {
   "cell_type": "code",
   "execution_count": 17,
   "metadata": {
    "collapsed": false
   },
   "outputs": [],
   "source": [
    "from numpy import *\n",
    "%matplotlib inline\n",
    "import matplotlib.pyplot as plt\n",
    "from scipy import stats"
   ]
  },
  {
   "cell_type": "markdown",
   "metadata": {},
   "source": [
    "# 1. Inverse Algorithm and Main function"
   ]
  },
  {
   "cell_type": "markdown",
   "metadata": {},
   "source": [
    "From the marginal distribution, we have the density function, cumulative and inverse function \n",
    "<center>\n",
    "$$f(x|y) = \\frac{1}{1-e^{-By}}ye^{-yx},  F(x|y) = \\frac{1-e^{-yx}}{1-e^{-By}},      x \\in [0,B]$$  \n",
    "$$f(y|x) = \\frac{1}{1-e^{-Bx}}xe^{-yx},  F(y|x) = \\frac{1-e^{-yx}}{1-e^{-Bx}},      y \\in [0,B]$$  \n",
    "$$F^{-1}(x|y) = -\\frac{log(1-t(1-e^{-By}))}{y},  F^{-1}(y|x) = -\\frac{log(1-t(1-e^{-Bx}))}{x}$$  "
   ]
  },
  {
   "cell_type": "code",
   "execution_count": 27,
   "metadata": {
    "collapsed": false
   },
   "outputs": [],
   "source": [
    "def Fxy(x, y, B):return (1 - exp(- y * x))/(1 - exp(- B * y))\n",
    "def Fyx(x, y, B):return (1 - exp(- y * x))/(1 - exp(- B * x))\n",
    "def F_1x(y, B):\n",
    "    temp = random.uniform(0, 1)\n",
    "    return -(log(1 - temp * (1 - exp(- B * y))))/y\n",
    "def F_1y(x, B):\n",
    "    temp = random.uniform(0, 1)\n",
    "    return -(log(1 - temp * (1 - exp(- B * x))))/x"
   ]
  },
  {
   "cell_type": "markdown",
   "metadata": {},
   "source": [
    "## Inverse method Algorithm\n",
    "1. Assign initial value x = 1, y = 1  \n",
    "2. Generate new x given y, and generate new y given x, using the inverse function\n",
    "3. Repeat step b iteration times"
   ]
  },
  {
   "cell_type": "markdown",
   "metadata": {},
   "source": [
    "## Main function"
   ]
  },
  {
   "cell_type": "code",
   "execution_count": 19,
   "metadata": {
    "collapsed": false
   },
   "outputs": [],
   "source": [
    "def Invsample(N, thin, B):\n",
    "    mat = zeros(3 * N).reshape(N, 3)\n",
    "    mat[:, 0] = arange(1, N+1, 1)\n",
    "    x = 1; y = 1; \n",
    "    for i in range(0, N):\n",
    "        for j in range(0, thin):\n",
    "            x = F_1x(y, B)\n",
    "            y = F_1y(x, B)\n",
    "        mat[i, 1 : 3] = [x, y]   \n",
    "    return(mat)"
   ]
  },
  {
   "cell_type": "markdown",
   "metadata": {},
   "source": [
    "# 2. Test for different sample sizes"
   ]
  },
  {
   "cell_type": "markdown",
   "metadata": {},
   "source": [
    "###  B = 5, N = 500 "
   ]
  },
  {
   "cell_type": "code",
   "execution_count": 22,
   "metadata": {
    "collapsed": false,
    "scrolled": true
   },
   "outputs": [
    {
     "data": {
      "text/plain": [
       "<matplotlib.text.Text at 0x11065dd90>"
      ]
     },
     "execution_count": 22,
     "metadata": {},
     "output_type": "execute_result"
    },
    {
     "data": {
      "image/png": "[encoded data removed]",
      "text/plain": [
       "<matplotlib.figure.Figure at 0x10feb4050>"
      ]
     },
     "metadata": {},
     "output_type": "display_data"
    }
   ],
   "source": [
    "N = 500; thin = 5; B = 5\n",
    "result1 = Invsample(N, thin, B)\n",
    "fig = plt.figure(figsize=(15, 5))\n",
    "plt.subplot(\"121\")\n",
    "plt.hist(result1[:,1])\n",
    "plt.title(\"x histogram for N = 500\")\n",
    "plt.subplot(\"122\")\n",
    "plt.hist(result1[:,2])\n",
    "plt.title(\"y histogram for N = 500\")"
   ]
  },
  {
   "cell_type": "markdown",
   "metadata": {},
   "source": [
    "###  B = 5, N = 5000"
   ]
  },
  {
   "cell_type": "code",
   "execution_count": 24,
   "metadata": {
    "collapsed": false
   },
   "outputs": [
    {
     "data": {
      "text/plain": [
       "<matplotlib.text.Text at 0x110e64fd0>"
      ]
     },
     "execution_count": 24,
     "metadata": {},
     "output_type": "execute_result"
    },
    {
     "data": {
      "image/png": "[encoded data removed]",
      "text/plain": [
       "<matplotlib.figure.Figure at 0x10e8b6150>"
      ]
     },
     "metadata": {},
     "output_type": "display_data"
    }
   ],
   "source": [
    "N = 5000; thin = 5; B = 5\n",
    "result2 = Invsample(N, thin, B)\n",
    "fig = plt.figure(figsize=(15, 5))\n",
    "plt.subplot(\"121\")\n",
    "plt.hist(result2[:,1])\n",
    "plt.title(\"x histogram for N = 5000\")\n",
    "plt.subplot(\"122\")\n",
    "plt.hist(result2[:,2])\n",
    "plt.title(\"y histogram for N = 5000\")"
   ]
  },
  {
   "cell_type": "markdown",
   "metadata": {},
   "source": [
    "###  B = 5, N = 50000 "
   ]
  },
  {
   "cell_type": "code",
   "execution_count": 25,
   "metadata": {
    "collapsed": false
   },
   "outputs": [
    {
     "data": {
      "text/plain": [
       "<matplotlib.text.Text at 0x111417250>"
      ]
     },
     "execution_count": 25,
     "metadata": {},
     "output_type": "execute_result"
    },
    {
     "data": {
      "image/png": "[encoded data removed]",
      "text/plain": [
       "<matplotlib.figure.Figure at 0x10f923110>"
      ]
     },
     "metadata": {},
     "output_type": "display_data"
    }
   ],
   "source": [
    "N = 50000; thin = 5; B = 5\n",
    "result3 = Invsample(N, thin, B)\n",
    "fig = plt.figure(figsize=(15, 5))\n",
    "plt.subplot(\"121\")\n",
    "plt.hist(result3[:,1])\n",
    "plt.title(\"x histogram for N = 50000\")\n",
    "plt.subplot(\"122\")\n",
    "plt.hist(result3[:,2])\n",
    "plt.title(\"y histogram for N = 50000\")"
   ]
  },
  {
   "cell_type": "markdown",
   "metadata": {},
   "source": [
    "# 3. Estimate of the Expectation $E_{P(X)}[X]$"
   ]
  },
  {
   "cell_type": "code",
   "execution_count": 29,
   "metadata": {
    "collapsed": false
   },
   "outputs": [
    {
     "name": "stdout",
     "output_type": "stream",
     "text": [
      "N = 500 The estimate of the Expectation is 1.27279499747\n",
      "N = 5000 The estimate of the Expectation is 1.25477807499\n",
      "N = 50000 The estimate of the Expectation is 1.25844594755\n"
     ]
    }
   ],
   "source": [
    "e1 = result1[:, 1]; e2 = result2[:, 1]; e3 = result3[:, 1]\n",
    "print \"N = 500\",'The estimate of the Expectation is', mean(e1)\n",
    "print \"N = 5000\",'The estimate of the Expectation is', mean(e2)\n",
    "print \"N = 50000\",'The estimate of the Expectation is', mean(e3)"
   ]
  },
  {
   "cell_type": "code",
   "execution_count": null,
   "metadata": {
    "collapsed": false
   },
   "outputs": [],
   "source": [
    "m = zeros(50000); v = zeros(50000)\n",
    "for i in range(50000):\n",
    "    m[i] = mean(result3[0:i+1,1])\n",
    "    v[i] = var(result3[0:i+1,1])/sqrt(i+1)\n",
    "\n",
    "fig = plt.figure(figsize=(15, 5))\n",
    "plt.subplot(\"121\")\n",
    "plt.plot(m)\n",
    "plt.axis([0, 50000, 1.0, 1.4])\n",
    "plt.title(\"Estimate mean as iteration increasing\")\n",
    "plt.subplot(\"122\")\n",
    "plt.plot(v)\n",
    "plt.axis([-100, 50000, 0, 0.5])\n",
    "plt.title(\"Estimate variance as iteration increasing\")"
   ]
  }
 ],
 "metadata": {
  "anaconda-cloud": {},
  "kernelspec": {
   "display_name": "Python [Root]",
   "language": "python",
   "name": "Python [Root]"
  },
  "language_info": {
   "codemirror_mode": {
    "name": "ipython",
    "version": 2
   },
   "file_extension": ".py",
   "mimetype": "text/x-python",
   "name": "python",
   "nbconvert_exporter": "python",
   "pygments_lexer": "ipython2",
   "version": "2.7.12"
  }
 },
 "nbformat": 4,
 "nbformat_minor": 0
}
