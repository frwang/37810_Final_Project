{
 "cells": [
  {
   "cell_type": "markdown",
   "metadata": {},
   "source": [
    "<center>\n",
    "# Final Project Part 2\n",
    "# Feng Wang\n",
    "# Gibbs Sampling "
   ]
  },
  {
   "cell_type": "code",
   "execution_count": 254,
   "metadata": {
    "collapsed": false
   },
   "outputs": [],
   "source": [
    "from numpy import *\n",
    "%matplotlib inline\n",
    "import matplotlib.pyplot as plt\n",
    "from scipy import stats"
   ]
  },
  {
   "cell_type": "markdown",
   "metadata": {},
   "source": [
    "# 1. Inverse Algorithm and Main function"
   ]
  },
  {
   "cell_type": "markdown",
   "metadata": {},
   "source": [
    "From the marginal distribution, we have the density function and cumulative function\n",
    "<center>\n",
    "    $f(x|y) = \\frac{1}{1-e^{-By}}ye^{-yx}$,  $F(x|y) = \\frac{1-e^{-yx}}{1-e^{-By}}$,      $x \\in [0,B]$  \n",
    "    $f(y|x) = \\frac{1}{1-e^{-Bx}}xe^{-yx}$,  $F(y|x) = \\frac{1-e^{-yx}}{1-e^{-Bx}}$,      $y \\in [0,B]$  "
   ]
  },
  {
   "cell_type": "code",
   "execution_count": 207,
   "metadata": {
    "collapsed": false
   },
   "outputs": [],
   "source": [
    "def Fxy(x, y, B):return (1 - exp(- y * x))/(1 - exp(- B * y))\n",
    "def Fyx(x, y, B):return (1 - exp(- y * x))/(1 - exp(- B * x))"
   ]
  },
  {
   "cell_type": "markdown",
   "metadata": {},
   "source": [
    "## Inverse method Algorithm\n",
    "* ### a. Assign initial value x = 1, y = 1  \n",
    "* ### b. Generate new x given y, and generate new y given x  \n",
    "We have a cumulative distribution function, and we need to get a random sample from this distribution. Since the F(x) follows a uniform distribution (0,1), then we get a random number t first. Then, find the root x from F(x) = t. Similarly, we use the same method to get root y\n",
    "* ### c. Repeat step b iteration times"
   ]
  },
  {
   "cell_type": "markdown",
   "metadata": {},
   "source": [
    "## Main function"
   ]
  },
  {
   "cell_type": "code",
   "execution_count": 208,
   "metadata": {
    "collapsed": false
   },
   "outputs": [],
   "source": [
    "def Invsample(N,thin,B):\n",
    "    mat = zeros(3 * N).reshape(N,3)\n",
    "    mat[:, 0] = arange(1,N+1,1)\n",
    "    x = 1; y = 1; \n",
    "    for i in range(0, N):\n",
    "        for j in range(0, thin):\n",
    "            x_temp = arange(0.005,B,0.005)\n",
    "            s1 = random.uniform(0,1)\n",
    "            temp1 = abs(Fxy(x_temp,y,B)-s1)\n",
    "            x = x_temp[temp1 == min(temp1)]\n",
    "            y_temp = arange(0.005,B,0.005)\n",
    "            s2 = random.uniform(0,1)\n",
    "            temp2 = abs(Fyx(x,y_temp,B)-s2)\n",
    "            y = y_temp[temp2 == min(temp2)]\n",
    "        mat[i, 1 : 3] = [x, y]   \n",
    "    return(mat)"
   ]
  },
  {
   "cell_type": "markdown",
   "metadata": {},
   "source": [
    "# 2. Test for different sample sizes"
   ]
  },
  {
   "cell_type": "markdown",
   "metadata": {},
   "source": [
    "###  B = 5, N = 500 "
   ]
  },
  {
   "cell_type": "code",
   "execution_count": 238,
   "metadata": {
    "collapsed": false,
    "scrolled": true
   },
   "outputs": [
    {
     "data": {
      "text/plain": [
       "<matplotlib.text.Text at 0x1236c0fd0>"
      ]
     },
     "execution_count": 238,
     "metadata": {},
     "output_type": "execute_result"
    },
    {
     "data": {
      "image/png": "[encoded data removed]",
      "text/plain": [
       "<matplotlib.figure.Figure at 0x12347c690>"
      ]
     },
     "metadata": {},
     "output_type": "display_data"
    }
   ],
   "source": [
    "N = 500; thin = 5; B = 5\n",
    "result1 = Invsample(N,thin,B)\n",
    "fig = plt.figure(figsize=(15, 5))\n",
    "plt.subplot(\"121\")\n",
    "plt.hist(result1[:,1])\n",
    "plt.title(\"x histogram for N = 500\")\n",
    "plt.subplot(\"122\")\n",
    "plt.hist(result1[:,2])\n",
    "plt.title(\"y histogram for N = 500\")"
   ]
  },
  {
   "cell_type": "markdown",
   "metadata": {},
   "source": [
    "###  B = 5, N = 5000"
   ]
  },
  {
   "cell_type": "code",
   "execution_count": 239,
   "metadata": {
    "collapsed": false
   },
   "outputs": [
    {
     "data": {
      "text/plain": [
       "<matplotlib.text.Text at 0x123f46a10>"
      ]
     },
     "execution_count": 239,
     "metadata": {},
     "output_type": "execute_result"
    },
    {
     "data": {
      "image/png": "[encoded data removed]",
      "text/plain": [
       "<matplotlib.figure.Figure at 0x123679390>"
      ]
     },
     "metadata": {},
     "output_type": "display_data"
    }
   ],
   "source": [
    "N = 5000; thin = 5; B = 5\n",
    "result2 = Invsample(N,thin,B)\n",
    "fig = plt.figure(figsize=(15, 5))\n",
    "plt.subplot(\"121\")\n",
    "plt.hist(result2[:,1])\n",
    "plt.title(\"x histogram for N = 5000\")\n",
    "plt.subplot(\"122\")\n",
    "plt.hist(result2[:,2])\n",
    "plt.title(\"y histogram for N = 5000\")"
   ]
  },
  {
   "cell_type": "markdown",
   "metadata": {},
   "source": [
    "###  B = 5, N = 50000 "
   ]
  },
  {
   "cell_type": "code",
   "execution_count": 240,
   "metadata": {
    "collapsed": false
   },
   "outputs": [
    {
     "data": {
      "text/plain": [
       "<matplotlib.text.Text at 0x124403210>"
      ]
     },
     "execution_count": 240,
     "metadata": {},
     "output_type": "execute_result"
    },
    {
     "data": {
      "image/png": "[encoded data removed]",
      "text/plain": [
       "<matplotlib.figure.Figure at 0x123545290>"
      ]
     },
     "metadata": {},
     "output_type": "display_data"
    }
   ],
   "source": [
    "N = 50000; thin = 5; B = 5\n",
    "result3 = Invsample(N,thin,B)\n",
    "fig = plt.figure(figsize=(15, 5))\n",
    "plt.subplot(\"121\")\n",
    "plt.hist(result3[:,1])\n",
    "plt.title(\"x histogram for N = 50000\")\n",
    "plt.subplot(\"122\")\n",
    "plt.hist(result3[:,2])\n",
    "plt.title(\"y histogram for N = 50000\")"
   ]
  },
  {
   "cell_type": "markdown",
   "metadata": {},
   "source": [
    "# 3. Estimate of the Expectation $E_{P(X)}[X]$"
   ]
  },
  {
   "cell_type": "code",
   "execution_count": 253,
   "metadata": {
    "collapsed": false
   },
   "outputs": [
    {
     "name": "stdout",
     "output_type": "stream",
     "text": [
      "N = 500 The estimate of the Expectation is 1.30432\n",
      "N = 5000 The estimate of the Expectation is 1.269201\n",
      "N = 50000 The estimate of the Expectation is 1.2535886\n"
     ]
    }
   ],
   "source": [
    "e1 = result1[:,1]; e2 = result2[:,1]; e3 = result3[:,1]\n",
    "print \"N = 500\",'The estimate of the Expectation is', mean(e1)\n",
    "print \"N = 5000\",'The estimate of the Expectation is', mean(e2)\n",
    "print \"N = 50000\",'The estimate of the Expectation is', mean(e3)"
   ]
  }
 ],
 "metadata": {
  "anaconda-cloud": {},
  "kernelspec": {
   "display_name": "Python [Root]",
   "language": "python",
   "name": "Python [Root]"
  },
  "language_info": {
   "codemirror_mode": {
    "name": "ipython",
    "version": 2
   },
   "file_extension": ".py",
   "mimetype": "text/x-python",
   "name": "python",
   "nbconvert_exporter": "python",
   "pygments_lexer": "ipython2",
   "version": "2.7.12"
  }
 },
 "nbformat": 4,
 "nbformat_minor": 0
}
